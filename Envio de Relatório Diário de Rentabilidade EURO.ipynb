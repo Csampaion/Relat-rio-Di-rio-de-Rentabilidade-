{
 "cells": [
  {
   "cell_type": "code",
   "execution_count": 1,
   "id": "036393e4",
   "metadata": {},
   "outputs": [
    {
     "name": "stdout",
     "output_type": "stream",
     "text": [
      "Requirement already satisfied: python-dotenv in c:\\users\\windows\\anaconda3\\lib\\site-packages (1.0.0)\n"
     ]
    }
   ],
   "source": [
    "!pip install python-dotenv"
   ]
  },
  {
   "cell_type": "code",
   "execution_count": 3,
   "id": "a6c79fb0",
   "metadata": {},
   "outputs": [
    {
     "name": "stdout",
     "output_type": "stream",
     "text": [
      "Requirement already satisfied: yfinance==0.1.74 in c:\\users\\windows\\anaconda3\\lib\\site-packages (0.1.74)\n",
      "Requirement already satisfied: requests>=2.26 in c:\\users\\windows\\anaconda3\\lib\\site-packages (from yfinance==0.1.74) (2.28.1)\n",
      "Requirement already satisfied: pandas>=0.24.0 in c:\\users\\windows\\anaconda3\\lib\\site-packages (from yfinance==0.1.74) (1.4.4)\n",
      "Requirement already satisfied: lxml>=4.5.1 in c:\\users\\windows\\anaconda3\\lib\\site-packages (from yfinance==0.1.74) (4.9.1)\n",
      "Requirement already satisfied: numpy>=1.15 in c:\\users\\windows\\anaconda3\\lib\\site-packages (from yfinance==0.1.74) (1.21.5)\n",
      "Requirement already satisfied: multitasking>=0.0.7 in c:\\users\\windows\\anaconda3\\lib\\site-packages (from yfinance==0.1.74) (0.0.11)\n",
      "Requirement already satisfied: pytz>=2020.1 in c:\\users\\windows\\anaconda3\\lib\\site-packages (from pandas>=0.24.0->yfinance==0.1.74) (2023.3)\n",
      "Requirement already satisfied: python-dateutil>=2.8.1 in c:\\users\\windows\\anaconda3\\lib\\site-packages (from pandas>=0.24.0->yfinance==0.1.74) (2.8.2)\n",
      "Requirement already satisfied: certifi>=2017.4.17 in c:\\users\\windows\\anaconda3\\lib\\site-packages (from requests>=2.26->yfinance==0.1.74) (2022.9.14)\n",
      "Requirement already satisfied: urllib3<1.27,>=1.21.1 in c:\\users\\windows\\anaconda3\\lib\\site-packages (from requests>=2.26->yfinance==0.1.74) (1.26.11)\n",
      "Requirement already satisfied: charset-normalizer<3,>=2 in c:\\users\\windows\\anaconda3\\lib\\site-packages (from requests>=2.26->yfinance==0.1.74) (2.0.4)\n",
      "Requirement already satisfied: idna<4,>=2.5 in c:\\users\\windows\\anaconda3\\lib\\site-packages (from requests>=2.26->yfinance==0.1.74) (3.3)\n",
      "Requirement already satisfied: six>=1.5 in c:\\users\\windows\\anaconda3\\lib\\site-packages (from python-dateutil>=2.8.1->pandas>=0.24.0->yfinance==0.1.74) (1.16.0)\n"
     ]
    }
   ],
   "source": [
    "!pip install yfinance==0.1.74"
   ]
  },
  {
   "cell_type": "code",
   "execution_count": 4,
   "id": "69b6415f",
   "metadata": {},
   "outputs": [
    {
     "name": "stdout",
     "output_type": "stream",
     "text": [
      "Requirement already satisfied: mplcyberpunk in c:\\users\\windows\\anaconda3\\lib\\site-packages (0.6.0)\n",
      "Requirement already satisfied: matplotlib in c:\\users\\windows\\anaconda3\\lib\\site-packages (from mplcyberpunk) (3.5.2)\n",
      "Requirement already satisfied: python-dateutil>=2.7 in c:\\users\\windows\\anaconda3\\lib\\site-packages (from matplotlib->mplcyberpunk) (2.8.2)\n",
      "Requirement already satisfied: kiwisolver>=1.0.1 in c:\\users\\windows\\anaconda3\\lib\\site-packages (from matplotlib->mplcyberpunk) (1.4.2)\n",
      "Requirement already satisfied: cycler>=0.10 in c:\\users\\windows\\anaconda3\\lib\\site-packages (from matplotlib->mplcyberpunk) (0.11.0)\n",
      "Requirement already satisfied: numpy>=1.17 in c:\\users\\windows\\anaconda3\\lib\\site-packages (from matplotlib->mplcyberpunk) (1.21.5)\n",
      "Requirement already satisfied: pillow>=6.2.0 in c:\\users\\windows\\anaconda3\\lib\\site-packages (from matplotlib->mplcyberpunk) (9.2.0)\n",
      "Requirement already satisfied: fonttools>=4.22.0 in c:\\users\\windows\\anaconda3\\lib\\site-packages (from matplotlib->mplcyberpunk) (4.25.0)\n",
      "Requirement already satisfied: pyparsing>=2.2.1 in c:\\users\\windows\\anaconda3\\lib\\site-packages (from matplotlib->mplcyberpunk) (3.0.9)\n",
      "Requirement already satisfied: packaging>=20.0 in c:\\users\\windows\\anaconda3\\lib\\site-packages (from matplotlib->mplcyberpunk) (21.3)\n",
      "Requirement already satisfied: six>=1.5 in c:\\users\\windows\\anaconda3\\lib\\site-packages (from python-dateutil>=2.7->matplotlib->mplcyberpunk) (1.16.0)\n"
     ]
    }
   ],
   "source": [
    "!pip install mplcyberpunk"
   ]
  },
  {
   "cell_type": "code",
   "execution_count": 1,
   "id": "2949da55",
   "metadata": {},
   "outputs": [],
   "source": [
    "import pandas as pd\n",
    "import datetime\n",
    "import yfinance as yf\n",
    "from matplotlib import pyplot as plt\n",
    "import mplcyberpunk\n",
    "import smtplib\n",
    "from email.message import EmailMessage"
   ]
  },
  {
   "cell_type": "code",
   "execution_count": 2,
   "id": "0eb88135",
   "metadata": {},
   "outputs": [
    {
     "name": "stdout",
     "output_type": "stream",
     "text": [
      "[*********************100%***********************]  2 of 2 completed\n"
     ]
    },
    {
     "data": {
      "text/html": [
       "<div>\n",
       "<style scoped>\n",
       "    .dataframe tbody tr th:only-of-type {\n",
       "        vertical-align: middle;\n",
       "    }\n",
       "\n",
       "    .dataframe tbody tr th {\n",
       "        vertical-align: top;\n",
       "    }\n",
       "\n",
       "    .dataframe thead tr th {\n",
       "        text-align: left;\n",
       "    }\n",
       "\n",
       "    .dataframe thead tr:last-of-type th {\n",
       "        text-align: right;\n",
       "    }\n",
       "</style>\n",
       "<table border=\"1\" class=\"dataframe\">\n",
       "  <thead>\n",
       "    <tr>\n",
       "      <th></th>\n",
       "      <th colspan=\"2\" halign=\"left\">Adj Close</th>\n",
       "      <th colspan=\"2\" halign=\"left\">Close</th>\n",
       "      <th colspan=\"2\" halign=\"left\">High</th>\n",
       "      <th colspan=\"2\" halign=\"left\">Low</th>\n",
       "      <th colspan=\"2\" halign=\"left\">Open</th>\n",
       "      <th colspan=\"2\" halign=\"left\">Volume</th>\n",
       "    </tr>\n",
       "    <tr>\n",
       "      <th></th>\n",
       "      <th>BRL=X</th>\n",
       "      <th>EURBRL=X</th>\n",
       "      <th>BRL=X</th>\n",
       "      <th>EURBRL=X</th>\n",
       "      <th>BRL=X</th>\n",
       "      <th>EURBRL=X</th>\n",
       "      <th>BRL=X</th>\n",
       "      <th>EURBRL=X</th>\n",
       "      <th>BRL=X</th>\n",
       "      <th>EURBRL=X</th>\n",
       "      <th>BRL=X</th>\n",
       "      <th>EURBRL=X</th>\n",
       "    </tr>\n",
       "    <tr>\n",
       "      <th>Date</th>\n",
       "      <th></th>\n",
       "      <th></th>\n",
       "      <th></th>\n",
       "      <th></th>\n",
       "      <th></th>\n",
       "      <th></th>\n",
       "      <th></th>\n",
       "      <th></th>\n",
       "      <th></th>\n",
       "      <th></th>\n",
       "      <th></th>\n",
       "      <th></th>\n",
       "    </tr>\n",
       "  </thead>\n",
       "  <tbody>\n",
       "    <tr>\n",
       "      <th>2022-04-06</th>\n",
       "      <td>4.6507</td>\n",
       "      <td>5.0703</td>\n",
       "      <td>4.6507</td>\n",
       "      <td>5.0703</td>\n",
       "      <td>4.7126</td>\n",
       "      <td>5.1429</td>\n",
       "      <td>4.647900</td>\n",
       "      <td>5.0517</td>\n",
       "      <td>4.6507</td>\n",
       "      <td>5.0684</td>\n",
       "      <td>0</td>\n",
       "      <td>0</td>\n",
       "    </tr>\n",
       "    <tr>\n",
       "      <th>2022-04-07</th>\n",
       "      <td>4.7152</td>\n",
       "      <td>5.1357</td>\n",
       "      <td>4.7152</td>\n",
       "      <td>5.1357</td>\n",
       "      <td>4.7699</td>\n",
       "      <td>5.1980</td>\n",
       "      <td>4.690400</td>\n",
       "      <td>5.1134</td>\n",
       "      <td>4.7152</td>\n",
       "      <td>5.1380</td>\n",
       "      <td>0</td>\n",
       "      <td>0</td>\n",
       "    </tr>\n",
       "    <tr>\n",
       "      <th>2022-04-08</th>\n",
       "      <td>4.7521</td>\n",
       "      <td>5.1606</td>\n",
       "      <td>4.7521</td>\n",
       "      <td>5.1606</td>\n",
       "      <td>4.7913</td>\n",
       "      <td>5.1913</td>\n",
       "      <td>4.707518</td>\n",
       "      <td>5.1134</td>\n",
       "      <td>4.7521</td>\n",
       "      <td>5.1572</td>\n",
       "      <td>0</td>\n",
       "      <td>0</td>\n",
       "    </tr>\n",
       "    <tr>\n",
       "      <th>2022-04-11</th>\n",
       "      <td>4.6981</td>\n",
       "      <td>5.1049</td>\n",
       "      <td>4.6981</td>\n",
       "      <td>5.1049</td>\n",
       "      <td>4.7326</td>\n",
       "      <td>5.1566</td>\n",
       "      <td>4.684016</td>\n",
       "      <td>5.1004</td>\n",
       "      <td>4.6980</td>\n",
       "      <td>5.1049</td>\n",
       "      <td>0</td>\n",
       "      <td>0</td>\n",
       "    </tr>\n",
       "    <tr>\n",
       "      <th>2022-04-12</th>\n",
       "      <td>4.6936</td>\n",
       "      <td>5.1035</td>\n",
       "      <td>4.6936</td>\n",
       "      <td>5.1035</td>\n",
       "      <td>4.6971</td>\n",
       "      <td>5.1086</td>\n",
       "      <td>4.621500</td>\n",
       "      <td>5.0326</td>\n",
       "      <td>4.6936</td>\n",
       "      <td>5.1051</td>\n",
       "      <td>0</td>\n",
       "      <td>0</td>\n",
       "    </tr>\n",
       "    <tr>\n",
       "      <th>...</th>\n",
       "      <td>...</td>\n",
       "      <td>...</td>\n",
       "      <td>...</td>\n",
       "      <td>...</td>\n",
       "      <td>...</td>\n",
       "      <td>...</td>\n",
       "      <td>...</td>\n",
       "      <td>...</td>\n",
       "      <td>...</td>\n",
       "      <td>...</td>\n",
       "      <td>...</td>\n",
       "      <td>...</td>\n",
       "    </tr>\n",
       "    <tr>\n",
       "      <th>2023-03-31</th>\n",
       "      <td>5.0927</td>\n",
       "      <td>5.5518</td>\n",
       "      <td>5.0927</td>\n",
       "      <td>5.5518</td>\n",
       "      <td>5.1033</td>\n",
       "      <td>5.5615</td>\n",
       "      <td>5.055200</td>\n",
       "      <td>5.4891</td>\n",
       "      <td>5.0927</td>\n",
       "      <td>5.5523</td>\n",
       "      <td>0</td>\n",
       "      <td>0</td>\n",
       "    </tr>\n",
       "    <tr>\n",
       "      <th>2023-04-03</th>\n",
       "      <td>5.0623</td>\n",
       "      <td>5.4856</td>\n",
       "      <td>5.0623</td>\n",
       "      <td>5.4856</td>\n",
       "      <td>5.0755</td>\n",
       "      <td>5.5231</td>\n",
       "      <td>5.036216</td>\n",
       "      <td>5.4603</td>\n",
       "      <td>5.0623</td>\n",
       "      <td>5.4616</td>\n",
       "      <td>0</td>\n",
       "      <td>0</td>\n",
       "    </tr>\n",
       "    <tr>\n",
       "      <th>2023-04-04</th>\n",
       "      <td>5.0631</td>\n",
       "      <td>5.5201</td>\n",
       "      <td>5.0631</td>\n",
       "      <td>5.5201</td>\n",
       "      <td>5.0976</td>\n",
       "      <td>5.5813</td>\n",
       "      <td>5.048277</td>\n",
       "      <td>5.5023</td>\n",
       "      <td>5.0631</td>\n",
       "      <td>5.5189</td>\n",
       "      <td>0</td>\n",
       "      <td>0</td>\n",
       "    </tr>\n",
       "    <tr>\n",
       "      <th>2023-04-05</th>\n",
       "      <td>5.0707</td>\n",
       "      <td>5.5538</td>\n",
       "      <td>5.0707</td>\n",
       "      <td>5.5538</td>\n",
       "      <td>5.0743</td>\n",
       "      <td>5.5599</td>\n",
       "      <td>5.027504</td>\n",
       "      <td>5.4953</td>\n",
       "      <td>5.0707</td>\n",
       "      <td>5.5543</td>\n",
       "      <td>0</td>\n",
       "      <td>0</td>\n",
       "    </tr>\n",
       "    <tr>\n",
       "      <th>2023-04-06</th>\n",
       "      <td>5.0551</td>\n",
       "      <td>5.5111</td>\n",
       "      <td>5.0551</td>\n",
       "      <td>5.5111</td>\n",
       "      <td>5.0552</td>\n",
       "      <td>5.5119</td>\n",
       "      <td>5.034000</td>\n",
       "      <td>5.4814</td>\n",
       "      <td>5.0340</td>\n",
       "      <td>5.4900</td>\n",
       "      <td>0</td>\n",
       "      <td>0</td>\n",
       "    </tr>\n",
       "  </tbody>\n",
       "</table>\n",
       "<p>262 rows × 12 columns</p>\n",
       "</div>"
      ],
      "text/plain": [
       "           Adj Close            Close             High                Low  \\\n",
       "               BRL=X EURBRL=X   BRL=X EURBRL=X   BRL=X EURBRL=X     BRL=X   \n",
       "Date                                                                        \n",
       "2022-04-06    4.6507   5.0703  4.6507   5.0703  4.7126   5.1429  4.647900   \n",
       "2022-04-07    4.7152   5.1357  4.7152   5.1357  4.7699   5.1980  4.690400   \n",
       "2022-04-08    4.7521   5.1606  4.7521   5.1606  4.7913   5.1913  4.707518   \n",
       "2022-04-11    4.6981   5.1049  4.6981   5.1049  4.7326   5.1566  4.684016   \n",
       "2022-04-12    4.6936   5.1035  4.6936   5.1035  4.6971   5.1086  4.621500   \n",
       "...              ...      ...     ...      ...     ...      ...       ...   \n",
       "2023-03-31    5.0927   5.5518  5.0927   5.5518  5.1033   5.5615  5.055200   \n",
       "2023-04-03    5.0623   5.4856  5.0623   5.4856  5.0755   5.5231  5.036216   \n",
       "2023-04-04    5.0631   5.5201  5.0631   5.5201  5.0976   5.5813  5.048277   \n",
       "2023-04-05    5.0707   5.5538  5.0707   5.5538  5.0743   5.5599  5.027504   \n",
       "2023-04-06    5.0551   5.5111  5.0551   5.5111  5.0552   5.5119  5.034000   \n",
       "\n",
       "                       Open          Volume           \n",
       "           EURBRL=X   BRL=X EURBRL=X  BRL=X EURBRL=X  \n",
       "Date                                                  \n",
       "2022-04-06   5.0517  4.6507   5.0684      0        0  \n",
       "2022-04-07   5.1134  4.7152   5.1380      0        0  \n",
       "2022-04-08   5.1134  4.7521   5.1572      0        0  \n",
       "2022-04-11   5.1004  4.6980   5.1049      0        0  \n",
       "2022-04-12   5.0326  4.6936   5.1051      0        0  \n",
       "...             ...     ...      ...    ...      ...  \n",
       "2023-03-31   5.4891  5.0927   5.5523      0        0  \n",
       "2023-04-03   5.4603  5.0623   5.4616      0        0  \n",
       "2023-04-04   5.5023  5.0631   5.5189      0        0  \n",
       "2023-04-05   5.4953  5.0707   5.5543      0        0  \n",
       "2023-04-06   5.4814  5.0340   5.4900      0        0  \n",
       "\n",
       "[262 rows x 12 columns]"
      ]
     },
     "execution_count": 2,
     "metadata": {},
     "output_type": "execute_result"
    }
   ],
   "source": [
    "# Chamando os ativos que desejamos no Yahoo Finance, nesse caso serão o Ibov, dolar e euro\n",
    "\n",
    "ativos = ('BRL=X', 'EURBRL=X')\n",
    "\n",
    "hoje = datetime.datetime.now()\n",
    "um_ano_atras = hoje - datetime.timedelta(days = 365) #para fazer de hoje até 1 ano atrás\n",
    "\n",
    "dados_mercado = yf.download(ativos, um_ano_atras, hoje)\n",
    "\n",
    "dados_mercado\n",
    "\n",
    "\n"
   ]
  },
  {
   "cell_type": "code",
   "execution_count": 4,
   "id": "983e7593",
   "metadata": {},
   "outputs": [
    {
     "data": {
      "text/html": [
       "<div>\n",
       "<style scoped>\n",
       "    .dataframe tbody tr th:only-of-type {\n",
       "        vertical-align: middle;\n",
       "    }\n",
       "\n",
       "    .dataframe tbody tr th {\n",
       "        vertical-align: top;\n",
       "    }\n",
       "\n",
       "    .dataframe thead th {\n",
       "        text-align: right;\n",
       "    }\n",
       "</style>\n",
       "<table border=\"1\" class=\"dataframe\">\n",
       "  <thead>\n",
       "    <tr style=\"text-align: right;\">\n",
       "      <th></th>\n",
       "      <th>dolar</th>\n",
       "      <th>euro</th>\n",
       "    </tr>\n",
       "    <tr>\n",
       "      <th>Date</th>\n",
       "      <th></th>\n",
       "      <th></th>\n",
       "    </tr>\n",
       "  </thead>\n",
       "  <tbody>\n",
       "    <tr>\n",
       "      <th>2022-04-06</th>\n",
       "      <td>4.6507</td>\n",
       "      <td>5.0703</td>\n",
       "    </tr>\n",
       "    <tr>\n",
       "      <th>2022-04-07</th>\n",
       "      <td>4.7152</td>\n",
       "      <td>5.1357</td>\n",
       "    </tr>\n",
       "    <tr>\n",
       "      <th>2022-04-08</th>\n",
       "      <td>4.7521</td>\n",
       "      <td>5.1606</td>\n",
       "    </tr>\n",
       "    <tr>\n",
       "      <th>2022-04-11</th>\n",
       "      <td>4.6981</td>\n",
       "      <td>5.1049</td>\n",
       "    </tr>\n",
       "    <tr>\n",
       "      <th>2022-04-12</th>\n",
       "      <td>4.6936</td>\n",
       "      <td>5.1035</td>\n",
       "    </tr>\n",
       "    <tr>\n",
       "      <th>...</th>\n",
       "      <td>...</td>\n",
       "      <td>...</td>\n",
       "    </tr>\n",
       "    <tr>\n",
       "      <th>2023-03-31</th>\n",
       "      <td>5.0927</td>\n",
       "      <td>5.5518</td>\n",
       "    </tr>\n",
       "    <tr>\n",
       "      <th>2023-04-03</th>\n",
       "      <td>5.0623</td>\n",
       "      <td>5.4856</td>\n",
       "    </tr>\n",
       "    <tr>\n",
       "      <th>2023-04-04</th>\n",
       "      <td>5.0631</td>\n",
       "      <td>5.5201</td>\n",
       "    </tr>\n",
       "    <tr>\n",
       "      <th>2023-04-05</th>\n",
       "      <td>5.0707</td>\n",
       "      <td>5.5538</td>\n",
       "    </tr>\n",
       "    <tr>\n",
       "      <th>2023-04-06</th>\n",
       "      <td>5.0551</td>\n",
       "      <td>5.5111</td>\n",
       "    </tr>\n",
       "  </tbody>\n",
       "</table>\n",
       "<p>262 rows × 2 columns</p>\n",
       "</div>"
      ],
      "text/plain": [
       "             dolar    euro\n",
       "Date                      \n",
       "2022-04-06  4.6507  5.0703\n",
       "2022-04-07  4.7152  5.1357\n",
       "2022-04-08  4.7521  5.1606\n",
       "2022-04-11  4.6981  5.1049\n",
       "2022-04-12  4.6936  5.1035\n",
       "...            ...     ...\n",
       "2023-03-31  5.0927  5.5518\n",
       "2023-04-03  5.0623  5.4856\n",
       "2023-04-04  5.0631  5.5201\n",
       "2023-04-05  5.0707  5.5538\n",
       "2023-04-06  5.0551  5.5111\n",
       "\n",
       "[262 rows x 2 columns]"
      ]
     },
     "metadata": {},
     "output_type": "display_data"
    }
   ],
   "source": [
    "dados_fechamento = dados_mercado['Adj Close'] \n",
    "dados_fechamento.columns = ['dolar','euro'] #alterando os nomes das colunas\n",
    "dados_fechamento = dados_fechamento.dropna()\n",
    "\n",
    "\n",
    "display(dados_fechamento)"
   ]
  },
  {
   "cell_type": "code",
   "execution_count": 26,
   "id": "48b3f47c",
   "metadata": {},
   "outputs": [
    {
     "data": {
      "text/plain": [
       "5.055099964141846"
      ]
     },
     "execution_count": 26,
     "metadata": {},
     "output_type": "execute_result"
    }
   ],
   "source": [
    "dados_ult_dolar = dados_fechamento.iloc[-1,0]\n",
    "\n",
    "dados_ult_euro = dados_fechamento.iloc[-1,1]\n"
   ]
  },
  {
   "cell_type": "code",
   "execution_count": 31,
   "id": "08c099ef",
   "metadata": {},
   "outputs": [
    {
     "data": {
      "text/plain": [
       "5.06"
      ]
     },
     "execution_count": 31,
     "metadata": {},
     "output_type": "execute_result"
    }
   ],
   "source": [
    "dados_ult_dolar = round(dados_ult_dolar, 2)\n",
    "\n",
    "dados_ult_euro = round(dados_ult_euro, 2)\n",
    "\n",
    "dados_ult_dolar"
   ]
  },
  {
   "cell_type": "markdown",
   "id": "dc390e10",
   "metadata": {},
   "source": [
    "# Agora será necessário criar com outros timeframes"
   ]
  },
  {
   "cell_type": "code",
   "execution_count": 5,
   "id": "503792f2",
   "metadata": {},
   "outputs": [
    {
     "data": {
      "text/html": [
       "<div>\n",
       "<style scoped>\n",
       "    .dataframe tbody tr th:only-of-type {\n",
       "        vertical-align: middle;\n",
       "    }\n",
       "\n",
       "    .dataframe tbody tr th {\n",
       "        vertical-align: top;\n",
       "    }\n",
       "\n",
       "    .dataframe thead th {\n",
       "        text-align: right;\n",
       "    }\n",
       "</style>\n",
       "<table border=\"1\" class=\"dataframe\">\n",
       "  <thead>\n",
       "    <tr style=\"text-align: right;\">\n",
       "      <th></th>\n",
       "      <th>dolar</th>\n",
       "      <th>euro</th>\n",
       "    </tr>\n",
       "    <tr>\n",
       "      <th>Date</th>\n",
       "      <th></th>\n",
       "      <th></th>\n",
       "    </tr>\n",
       "  </thead>\n",
       "  <tbody>\n",
       "    <tr>\n",
       "      <th>2022-12-31</th>\n",
       "      <td>5.2846</td>\n",
       "      <td>5.6330</td>\n",
       "    </tr>\n",
       "    <tr>\n",
       "      <th>2023-12-31</th>\n",
       "      <td>5.0551</td>\n",
       "      <td>5.5111</td>\n",
       "    </tr>\n",
       "  </tbody>\n",
       "</table>\n",
       "</div>"
      ],
      "text/plain": [
       "             dolar    euro\n",
       "Date                      \n",
       "2022-12-31  5.2846  5.6330\n",
       "2023-12-31  5.0551  5.5111"
      ]
     },
     "execution_count": 5,
     "metadata": {},
     "output_type": "execute_result"
    }
   ],
   "source": [
    "# utilizando o \"resample\"\n",
    "\n",
    "dados_fechamento_mensal = dados_fechamento.resample('M').last() #colocamos a letra M para simbolizar mês, e last para pegar o último valor\n",
    "dados_fechamento_anual = dados_fechamento.resample('A').last()\n",
    "\n",
    "\n",
    "dados_fechamento_anual"
   ]
  },
  {
   "cell_type": "markdown",
   "id": "cb32f40b",
   "metadata": {},
   "source": [
    "# Calcularemos o fechamento, retorno anual e retorno mensal\n"
   ]
  },
  {
   "cell_type": "code",
   "execution_count": 6,
   "id": "d3e95dce",
   "metadata": {},
   "outputs": [
    {
     "data": {
      "text/html": [
       "<div>\n",
       "<style scoped>\n",
       "    .dataframe tbody tr th:only-of-type {\n",
       "        vertical-align: middle;\n",
       "    }\n",
       "\n",
       "    .dataframe tbody tr th {\n",
       "        vertical-align: top;\n",
       "    }\n",
       "\n",
       "    .dataframe thead th {\n",
       "        text-align: right;\n",
       "    }\n",
       "</style>\n",
       "<table border=\"1\" class=\"dataframe\">\n",
       "  <thead>\n",
       "    <tr style=\"text-align: right;\">\n",
       "      <th></th>\n",
       "      <th>dolar</th>\n",
       "      <th>euro</th>\n",
       "    </tr>\n",
       "    <tr>\n",
       "      <th>Date</th>\n",
       "      <th></th>\n",
       "      <th></th>\n",
       "    </tr>\n",
       "  </thead>\n",
       "  <tbody>\n",
       "    <tr>\n",
       "      <th>2022-04-07</th>\n",
       "      <td>0.013869</td>\n",
       "      <td>0.012899</td>\n",
       "    </tr>\n",
       "    <tr>\n",
       "      <th>2022-04-08</th>\n",
       "      <td>0.007826</td>\n",
       "      <td>0.004848</td>\n",
       "    </tr>\n",
       "    <tr>\n",
       "      <th>2022-04-11</th>\n",
       "      <td>-0.011363</td>\n",
       "      <td>-0.010793</td>\n",
       "    </tr>\n",
       "    <tr>\n",
       "      <th>2022-04-12</th>\n",
       "      <td>-0.000958</td>\n",
       "      <td>-0.000274</td>\n",
       "    </tr>\n",
       "    <tr>\n",
       "      <th>2022-04-13</th>\n",
       "      <td>-0.004368</td>\n",
       "      <td>-0.009229</td>\n",
       "    </tr>\n",
       "    <tr>\n",
       "      <th>...</th>\n",
       "      <td>...</td>\n",
       "      <td>...</td>\n",
       "    </tr>\n",
       "    <tr>\n",
       "      <th>2023-03-31</th>\n",
       "      <td>-0.008083</td>\n",
       "      <td>-0.002372</td>\n",
       "    </tr>\n",
       "    <tr>\n",
       "      <th>2023-04-03</th>\n",
       "      <td>-0.005969</td>\n",
       "      <td>-0.011924</td>\n",
       "    </tr>\n",
       "    <tr>\n",
       "      <th>2023-04-04</th>\n",
       "      <td>0.000158</td>\n",
       "      <td>0.006289</td>\n",
       "    </tr>\n",
       "    <tr>\n",
       "      <th>2023-04-05</th>\n",
       "      <td>0.001501</td>\n",
       "      <td>0.006105</td>\n",
       "    </tr>\n",
       "    <tr>\n",
       "      <th>2023-04-06</th>\n",
       "      <td>-0.003077</td>\n",
       "      <td>-0.007688</td>\n",
       "    </tr>\n",
       "  </tbody>\n",
       "</table>\n",
       "<p>261 rows × 2 columns</p>\n",
       "</div>"
      ],
      "text/plain": [
       "               dolar      euro\n",
       "Date                          \n",
       "2022-04-07  0.013869  0.012899\n",
       "2022-04-08  0.007826  0.004848\n",
       "2022-04-11 -0.011363 -0.010793\n",
       "2022-04-12 -0.000958 -0.000274\n",
       "2022-04-13 -0.004368 -0.009229\n",
       "...              ...       ...\n",
       "2023-03-31 -0.008083 -0.002372\n",
       "2023-04-03 -0.005969 -0.011924\n",
       "2023-04-04  0.000158  0.006289\n",
       "2023-04-05  0.001501  0.006105\n",
       "2023-04-06 -0.003077 -0.007688\n",
       "\n",
       "[261 rows x 2 columns]"
      ]
     },
     "execution_count": 6,
     "metadata": {},
     "output_type": "execute_result"
    }
   ],
   "source": [
    "## pct_change serve para calcular a porcentagem de retorno \n",
    "retorno_ano = dados_fechamento_anual.pct_change().dropna()\n",
    "retorno_mes = dados_fechamento_mensal.pct_change().dropna()\n",
    "retorno_dia = dados_fechamento.pct_change().dropna()\n",
    "\n",
    "retorno_dia"
   ]
  },
  {
   "cell_type": "code",
   "execution_count": 16,
   "id": "a068552d",
   "metadata": {},
   "outputs": [
    {
     "data": {
      "text/plain": [
       "-0.007688481735852792"
      ]
     },
     "execution_count": 16,
     "metadata": {},
     "output_type": "execute_result"
    }
   ],
   "source": [
    "# Localizar fechamento do dia anterior, retorno no mês e retorno no ano \n",
    "# usando 'iloc' que seleciona elementos como uma matriz\n",
    "\n",
    "retorno_dia_dolar = retorno_dia.iloc[-1, 0]\n",
    "retorno_dia_euro = retorno_dia.iloc[-1, 1]\n",
    "\n",
    "\n",
    "retorno_mes_dolar = retorno_mes.iloc[-1, 0]\n",
    "retorno_mes_euro = retorno_mes.iloc[-1, 1]\n",
    "\n",
    "\n",
    "retorno_ano_dolar = retorno_ano.iloc[-1, 0]\n",
    "retorno_ano_euro = retorno_ano.iloc[-1, 1]\n",
    "\n",
    "\n",
    "\n",
    "\n",
    "retorno_dia_euro"
   ]
  },
  {
   "cell_type": "code",
   "execution_count": 17,
   "id": "d0f38753",
   "metadata": {},
   "outputs": [],
   "source": [
    "# arredondados o número do fechamento do dia anterior, retorno no mês e retorno no ano para torna-los melhor compreensíveis \n",
    "\n",
    "retorno_dia_dolar = round(retorno_dia_dolar * 100, 2)\n",
    "retorno_dia_euro = round(retorno_dia_euro * 100, 2)\n",
    "\n",
    "retorno_mes_dolar = round(retorno_mes_dolar * 100, 2)\n",
    "retorno_mes_euro = round(retorno_mes_euro * 100, 2)\n",
    "\n",
    "retorno_ano_dolar = round(retorno_ano_dolar * 100, 2)\n",
    "retorno_ano_euro = round(retorno_ano_euro * 100, 2)\n"
   ]
  },
  {
   "cell_type": "markdown",
   "id": "09994468",
   "metadata": {},
   "source": [
    "# Gráficos"
   ]
  },
  {
   "cell_type": "code",
   "execution_count": 10,
   "id": "b9ec197d",
   "metadata": {},
   "outputs": [
    {
     "data": {
      "image/png": "[encoded data removed]",
      "text/plain": [
       "<Figure size 640x480 with 1 Axes>"
      ]
     },
     "metadata": {},
     "output_type": "display_data"
    }
   ],
   "source": [
    "plt.style.use(\"cyberpunk\")\n",
    "\n",
    "dados_fechamento.plot(y = 'dolar', use_index = True, legend = False)\n",
    "plt.title('Dolar')\n",
    "plt.savefig('dolar.png', dpi = 300)\n",
    "\n",
    "plt.show()"
   ]
  },
  {
   "cell_type": "code",
   "execution_count": 11,
   "id": "0028a2fd",
   "metadata": {},
   "outputs": [
    {
     "data": {
      "image/png": "[encoded data removed]",
      "text/plain": [
       "<Figure size 640x480 with 1 Axes>"
      ]
     },
     "metadata": {},
     "output_type": "display_data"
    }
   ],
   "source": [
    "plt.style.use(\"cyberpunk\")\n",
    "\n",
    "dados_fechamento.plot(y = 'euro', use_index = True, legend = False)\n",
    "plt.title('Euro')\n",
    "plt.savefig('euro.png', dpi = 300)\n",
    "\n",
    "plt.show()"
   ]
  },
  {
   "cell_type": "markdown",
   "id": "43a32c60",
   "metadata": {},
   "source": [
    "# Bora Mandar o e-mail"
   ]
  },
  {
   "cell_type": "code",
   "execution_count": 12,
   "id": "01d92697",
   "metadata": {},
   "outputs": [],
   "source": [
    "import os\n",
    "from dotenv import load_dotenv\n",
    "\n"
   ]
  },
  {
   "cell_type": "code",
   "execution_count": 13,
   "id": "6eb57b1c",
   "metadata": {},
   "outputs": [
    {
     "data": {
      "text/plain": [
       "True"
      ]
     },
     "execution_count": 13,
     "metadata": {},
     "output_type": "execute_result"
    }
   ],
   "source": [
    "load_dotenv() #no arquivo tem que estar \"senha=...\" e salvar como .env\n"
   ]
  },
  {
   "cell_type": "code",
   "execution_count": 14,
   "id": "c4241061",
   "metadata": {},
   "outputs": [],
   "source": [
    "senha = os.environ.get(\"senha\")\n",
    "email = 'csampaion@gmail.com'"
   ]
  },
  {
   "cell_type": "markdown",
   "id": "9a557148",
   "metadata": {},
   "source": [
    "Nesse eu criei as variáveis 'dados_ult_dolar' e 'dados_ult_euro' para puxar o valor em reais do fechamento do dia anterior:"
   ]
  },
  {
   "cell_type": "code",
   "execution_count": 35,
   "id": "1bcbba89",
   "metadata": {},
   "outputs": [],
   "source": [
    "msg = EmailMessage()\n",
    "msg['Subject'] = \"Enviando e-mail com o Python\"\n",
    "msg['From'] = 'csampaion@gmail.com'\n",
    "msg['To'] = 'brenno@varos.com.br'\n",
    "\n",
    "msg.set_content(f'''Brenão, segue o relatório diário:\n",
    "\n",
    "Fiz alterando o fechamento para o valor em reais e não em porcentagem, espero que esteja correto.\n",
    "\n",
    "Dólar:\n",
    "\n",
    "No ano o Dólar está tendo uma rentabilidade de {retorno_ano_dolar}%, \n",
    "enquanto no mês a rentabilidade é de {retorno_mes_dolar}%.\n",
    "\n",
    "No último dia útil, o fechamento do Dólar foi de R${dados_ult_dolar}.\n",
    "\n",
    "Arrisquei em fazer para euro também, estou buscando uma melhor cotação para uma viagem.\n",
    "\n",
    "Euro:\n",
    "\n",
    "No ano o Dólar está tendo uma rentabilidade de {retorno_ano_euro}%, \n",
    "enquanto no mês a rentabilidade é de {retorno_mes_euro}%.\n",
    "\n",
    "No último dia útil, o fechamento do Euro foi de R${dados_ult_euro}.\n",
    "\n",
    "\n",
    "Abs,\n",
    "\n",
    "Cesar\n",
    "\n",
    "''')"
   ]
  },
  {
   "cell_type": "code",
   "execution_count": 36,
   "id": "29cb3d6a",
   "metadata": {},
   "outputs": [],
   "source": [
    "with open('dolar.png', 'rb') as content_file:\n",
    "    content = content_file.read()\n",
    "    msg.add_attachment(content, maintype='application', subtype='png', filename='dolar.png')\n",
    "    \n",
    "    \n",
    "with open('euro.png', 'rb') as content_file:\n",
    "    content = content_file.read()\n",
    "    msg.add_attachment(content, maintype='application', subtype='png', filename='euro.png')"
   ]
  },
  {
   "cell_type": "code",
   "execution_count": 37,
   "id": "b132db45",
   "metadata": {},
   "outputs": [],
   "source": [
    "with smtplib.SMTP_SSL('smtp.gmail.com', 465) as smtp:\n",
    "    \n",
    "    smtp.login(email, senha)\n",
    "    smtp.send_message(msg)"
   ]
  },
  {
   "cell_type": "code",
   "execution_count": null,
   "id": "6165082b",
   "metadata": {},
   "outputs": [],
   "source": []
  }
 ],
 "metadata": {
  "kernelspec": {
   "display_name": "Python 3 (ipykernel)",
   "language": "python",
   "name": "python3"
  },
  "language_info": {
   "codemirror_mode": {
    "name": "ipython",
    "version": 3
   },
   "file_extension": ".py",
   "mimetype": "text/x-python",
   "name": "python",
   "nbconvert_exporter": "python",
   "pygments_lexer": "ipython3",
   "version": "3.9.13"
  }
 },
 "nbformat": 4,
 "nbformat_minor": 5
}
